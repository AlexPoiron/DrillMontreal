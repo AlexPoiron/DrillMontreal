{
 "cells": [
  {
   "cell_type": "markdown",
   "id": "e8531448-77e0-4988-9497-ff6815c2f63c",
   "metadata": {},
   "source": [
    "## Partie Theorique du drone\n",
    "\n",
    "Tout d’abord, nous avons choisi de représenter notre graphe sous la forme d’une classe, elle contient un attribut qui représente la liste des arêtes qui le compose **edges** et le nombre de nœuds **nb_nodes**. \n",
    "Comme expliqué dans la synthèse, nous partons du principe que notre graphe est eulérien. Ainsi, nous avons la méthode **find_eulerian_cycle** qui renvoie la liste des nœuds parcourus lors du cycle eulérien. "
   ]
  },
  {
   "cell_type": "code",
   "execution_count": 17,
   "id": "6e4c9a05-7f18-4a1a-92ad-77d18db24395",
   "metadata": {},
   "outputs": [],
   "source": [
    "class Graph:\n",
    "\n",
    "    def __init__(self, edges, nb_nodes):\n",
    "        self.edges = edges\n",
    "        self.nb_nodes = nb_nodes\n",
    "    \n",
    "    def find_eulerian_cycle(self):\n",
    "        res = []\n",
    "        if (len(self.edges) == 0):\n",
    "            return res\n",
    "        tmp = self.edges[:]\n",
    "        res = find_eulerian_cycle_rec(tmp, self.edges[0][0], self.edges[0][1], res)\n",
    "        return res\n",
    "\n",
    "    def get_edges(self):\n",
    "        return self.edges\n",
    "    \n",
    "    def get_nb_nodes(self):\n",
    "        return self.nb_nodes"
   ]
  },
  {
   "cell_type": "markdown",
   "id": "76d34020-7a05-4dbf-99e7-89a90d654b41",
   "metadata": {},
   "source": [
    "Comme son nom l'indique, cette fonction sert à trouver un cycle eulérien. Nous l’utilisons comme vu au dessus dans notre classe **Graph**".
   ]
  },
  {
   "cell_type": "code",
   "execution_count": 18,
   "id": "3574d6ec-bddc-474a-9802-e4d3f43cfb4c",
   "metadata": {},
   "outputs": [],
   "source": [
    "def find_eulerian_cycle_rec( edges, frome, to, res):\n",
    "    res.append(frome)\n",
    "    if (frome,to) in edges:\n",
    "        edges.remove((frome, to))\n",
    "    else:\n",
    "        edges.remove((to, frome))\n",
    "    if (to, to) in edges:\n",
    "        find_eulerian_cycle_rec(edges, to, to, res)\n",
    "    else:\n",
    "        for (a,b) in edges:\n",
    "            if a == to:\n",
    "                find_eulerian_cycle_rec(edges, a, b, res)\n",
    "            elif b == to:\n",
    "                find_eulerian_cycle_rec(edges, b, a, res)\n",
    "    return res"
   ]
  },
  {
   "cell_type": "markdown",
   "id": "490c642c-e046-4911-ad8c-caa3bbfa3308",
   "metadata": {},
   "source": [
    "Cette fonction sert de **vérification** à notre cycle que l’on vient de trouver. En effet, notre algorithme passe par toutes les arêtes présentes dans notre cycle. A chaque passage, l'arête trouvée est enlevée de ce cycle. Si à la fin de la fonction, notre cycle est vide, alors il est eulérien."
   ]
  },
  {
   "cell_type": "code",
   "execution_count": 19,
   "id": "a80541b8-8d1f-487a-8fdd-fc46cf4754d9",
   "metadata": {},
   "outputs": [],
   "source": [
    "def is_eulerian_cycle(m, edges, cycle):\n",
    "    for i in range(0, len(cycle)):\n",
    "        if i == len(cycle) - 1:\n",
    "            (a,b) = (cycle[i] , cycle[0])\n",
    "        else:\n",
    "            (a,b) = (cycle[i] , cycle[i+1])\n",
    "        if (a,b) in edges:\n",
    "            edges.remove((a,b))\n",
    "        else:\n",
    "            if (b,a) in edges:\n",
    "                edges.remove((b,a))\n",
    "            else:\n",
    "                return False\n",
    "    if len(edges) == 0:\n",
    "        return True\n",
    "    return False"
   ]
  },
  {
   "cell_type": "markdown",
   "id": "9de59b2a-d7de-4320-a7f7-d39b627f347b",
   "metadata": {},
   "source": [
    "Testons un peu ces fonctions !"
   ]
  },
  {
   "cell_type": "code",
   "execution_count": 27,
   "id": "884c0984-df3f-4f20-8fb7-47375d690596",
   "metadata": {},
   "outputs": [
    {
     "name": "stdout",
     "output_type": "stream",
     "text": [
      "Cycle for g1:  [2, 0, 0, 2, 1, 3, 2, 1, 0, 3]\n",
      "The cycle is eulerian : True\n",
      "Cycle for g2:  [0, 1, 2, 3]\n",
      "The cycle is eulerian : True\n",
      "Cycle for g3:  [0, 1, 4, 0, 3, 4, 3, 2]\n",
      "The cycle is eulerian : True\n"
     ]
    }
   ],
   "source": [
    "g1 = Graph([(2,0),(2,1),(3,1),(1,2),(0,2),(2,3),(3,0),(3,2),(0,1),(0,0)], 4)\n",
    "g2 = Graph([(0,1),(1,2),(2,3),(3,0)], 4)\n",
    "g3 = Graph([(0,1),(1,4), (4,0), (3,4), (4,3), (3,0),(3,2), (2,0)], 5)\n",
    "\n",
    "cycle_1 = g1.find_eulerian_cycle()\n",
    "cycle_2 = g2.find_eulerian_cycle()\n",
    "cycle_3 = g3.find_eulerian_cycle()\n",
    "\n",
    "print(\"Cycle for g1: \", cycle_1)\n",
    "print(\"The cycle is eulerian :\", is_eulerian_cycle(g1.get_nb_nodes(), g1.get_edges(), cycle_1))\n",
    "\n",
    "print(\"Cycle for g2: \", cycle_2)\n",
    "print(\"The cycle is eulerian :\", is_eulerian_cycle(g2.get_nb_nodes(), g2.get_edges(), cycle_2))\n",
    "\n",
    "print(\"Cycle for g3: \", cycle_3)\n",
    "print(\"The cycle is eulerian :\", is_eulerian_cycle(g3.get_nb_nodes(), g3.get_edges(), cycle_3))"
   ]
  }
 ],
 "metadata": {
  "kernelspec": {
   "display_name": "Python 3",
   "language": "python",
   "name": "python3"
  },
  "language_info": {
   "codemirror_mode": {
    "name": "ipython",
    "version": 3
   },
   "file_extension": ".py",
   "mimetype": "text/x-python",
   "name": "python",
   "nbconvert_exporter": "python",
   "pygments_lexer": "ipython3",
   "version": "3.9.4"
  }
 },
 "nbformat": 4,
 "nbformat_minor": 5
}

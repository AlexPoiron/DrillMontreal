{
 "cells": [
  {
   "cell_type": "code",
   "execution_count": null,
   "id": "f44cce5d-84ca-4e74-811e-19abd6f0eece",
   "metadata": {},
   "outputs": [],
   "source": []
  }
 ],
 "metadata": {
  "kernelspec": {
   "display_name": "Python 3.9.4 64-bit ('ox': conda)",
   "language": "python",
   "name": "python394jvsc74a57bd0e7f94e9f1c5d4f7757b0e82cec402d67e0e779f5718c14861cc866a2b0f83e5a"
  },
  "language_info": {
   "codemirror_mode": {
    "name": "ipython",
    "version": 3
   },
   "file_extension": ".py",
   "mimetype": "text/x-python",
   "name": "python",
   "nbconvert_exporter": "python",
   "pygments_lexer": "ipython3",
   "version": "3.9.4"
  }
 },
 "nbformat": 4,
 "nbformat_minor": 5
}

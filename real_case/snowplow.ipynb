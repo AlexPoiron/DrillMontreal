{
 "cells": [
  {
   "cell_type": "markdown",
   "metadata": {
    "tags": []
   },
   "source": [
    "## **Etude pratique: le chemin des deneigeuses**"
   ]
  },
  {
   "cell_type": "markdown",
   "metadata": {
    "tags": []
   },
   "source": [
    "### **1 - Les import**\n",
    "Dans ce fichier, nous utilisons 2 librairies. Deux sont utilisées pour le parcours du drone. **`osnmx`** pour générer le graph à partir d'une ville ou d'un quartier et **`networkX`** pour le traitement du graphe. "
   ]
  },
  {
   "cell_type": "code",
   "execution_count": 19,
   "metadata": {
    "tags": []
   },
   "outputs": [],
   "source": [
    "import osmnx as ox\n",
    "import networkx as nx"
   ]
  },
  {
   "cell_type": "markdown",
   "metadata": {},
   "source": [
    "### **2 - Fonction d'appel**\n",
    "La fonction `loadingGraph` prend en paramètre _`neighborhood`_ le quartier, _`city`_ la ville, _`country`_ le pays et permet de charger le graphe.\n",
    "Pour ce qui est des paramètres completion et maps il s'agit de flag permettant d'afficher respectivement le niveau de\n",
    "couverture du graphe par les deneigeuses et les trajets que vont parcourir les deneigeuses.\n",
    "Nous aborderons l'intérêt des trois derniers paramètres dans la fonction `find_critical`."
   ]
  },
  {
   "cell_type": "code",
   "execution_count": 15,
   "metadata": {},
   "outputs": [],
   "source": [
    "def main(neighborhood,city,country,required_len_pull,required_len, min_accuracy, completion, maps):\n",
    "    if (neighborhood):\n",
    "        G = ox.graph_from_place(neighborhood + \", \" + city + \", \" + country, network_type='drive')\n",
    "    else:\n",
    "        G = ox.graph_from_place(city + \", \" + country, network_type='drive')\n",
    "    G = nx.convert_node_labels_to_integers(G)\n",
    "    list_ = []\n",
    "    path = dict(nx.all_pairs_shortest_path(G))\n",
    "    all_path = create_path_pull(path, required_len)\n",
    "    res_path = find_critical_road(G, path, all_path, min_accuracy, required_len, completion, maps)"
   ]
  },
  {
   "cell_type": "markdown",
   "metadata": {},
   "source": [
    "### **3 - Création des chemins**\n",
    "La fonction `create_path_pull` prend en paramètre _`path`_ le dictionnaire contenant tout les shortest path du graph et _`required_len`_ qui permet de selectionner par la longueur les chemins que nous allons attribuer à nos deneigeuses plus tard dans la suite du code."
   ]
  },
  {
   "cell_type": "code",
   "execution_count": null,
   "metadata": {},
   "outputs": [],
   "source": [
    "def create_path_pull(path, required_len):\n",
    "    all_path = []\n",
    "    for elem in path.values():\n",
    "        for var in elem.values():\n",
    "            if len(var) > required_len:\n",
    "                all_path.append(var)\n",
    "    return all_path"
   ]
  },
  {
   "cell_type": "markdown",
   "metadata": {},
   "source": [
    "### **4 - Détermination de la rentabilité**\n",
    "Il s'agit de la première sous fonction utilisée dans la fonction `find_critical_road`. L'objectif de cette fonction est de determiné la pertinence d'un chemin par rapport aux sommets que nous avons déjà visité. L'objectif étant de minimiser le nombre de fois ou nous allons repasser par des sommets que nous avons visité tout en maximisant la longueur de nos vecteurs."
   ]
  },
  {
   "cell_type": "code",
   "execution_count": 21,
   "metadata": {},
   "outputs": [],
   "source": [
    "def rentability(checked_mat, need_to_happend):\n",
    "    res = 0\n",
    "    for elem in need_to_happend:\n",
    "        if checked_mat[elem] != 1:\n",
    "            res+=1\n",
    "    return res/len(need_to_happend)"
   ]
  },
  {
   "cell_type": "markdown",
   "metadata": {},
   "source": [
    "### **5 - Mise à jour du vecteur de parcours**\n",
    "Tout comme précedemment, il s'agit d'une sous fonction utilisée dans la fonction `find_critical_road`. L'objectif de la fonction est de mettre a jour la liste des sommets par rapport au chemin que nous venons d'ajouter dans a liste de nos chemins finaux. Si jamais un nouveau sommet est rencontré on passe la valeur contenu à son index a True."
   ]
  },
  {
   "cell_type": "code",
   "execution_count": null,
   "metadata": {},
   "outputs": [],
   "source": [
    "def update(checked_mat, res_path):\n",
    "    for elem in res_path:\n",
    "        if checked_mat[elem] != True:\n",
    "            checked_mat[elem] = True\n",
    "    return checked_mat"
   ]
  },
  {
   "cell_type": "code",
   "execution_count": null,
   "metadata": {},
   "outputs": [],
   "source": [
    "def find_critical_road(G, path, all_path, min_accuracy, required_len, completion, maps):\n",
    "    checked_mat = [False] * len(path.values())\n",
    "    critical_floor = min_accuracy\n",
    "    acceptable_len = required_len\n",
    "    critical_road = []\n",
    "    length = len(all_path) - 1\n",
    "    i = 0\n",
    "    while False in checked_mat:\n",
    "        if i > length:\n",
    "            i = 0\n",
    "            critical_floor -= 0.05\n",
    "            acceptable_len -= 1\n",
    "            if completion:\n",
    "                print(\"The complete cover is at :\", (checked_mat.count(True)*100/len(checked_mat)), \"% of its completion\")\n",
    "        if len(all_path[i]) > acceptable_len:\n",
    "            if rentability(checked_mat, all_path[i]) > critical_floor:\n",
    "                critical_road.append(all_path[i])\n",
    "                if maps:\n",
    "                    fig, ax = ox.plot_graph_route(G, all_path[i], route_linewidth=4, node_size=1, bgcolor='k')\n",
    "                checked_mat = update(checked_mat, all_path[i])\n",
    "        i+=1\n",
    "    return critical_road"
   ]
  },
  {
   "cell_type": "code",
   "execution_count": 18,
   "metadata": {},
   "outputs": [
    {
     "name": "stdout",
     "output_type": "stream",
     "text": [
      "The complete cover is at : 37.93103448275862 % of its completion\n",
      "The complete cover is at : 45.97701149425287 % of its completion\n",
      "The complete cover is at : 45.97701149425287 % of its completion\n",
      "The complete cover is at : 52.87356321839081 % of its completion\n",
      "The complete cover is at : 69.54022988505747 % of its completion\n",
      "The complete cover is at : 69.54022988505747 % of its completion\n",
      "The complete cover is at : 69.54022988505747 % of its completion\n",
      "The complete cover is at : 69.54022988505747 % of its completion\n",
      "The complete cover is at : 74.13793103448276 % of its completion\n",
      "The complete cover is at : 74.13793103448276 % of its completion\n",
      "The complete cover is at : 74.13793103448276 % of its completion\n",
      "The complete cover is at : 74.13793103448276 % of its completion\n",
      "The complete cover is at : 80.45977011494253 % of its completion\n",
      "The complete cover is at : 82.75862068965517 % of its completion\n",
      "The complete cover is at : 82.75862068965517 % of its completion\n",
      "The complete cover is at : 91.37931034482759 % of its completion\n",
      "The complete cover is at : 98.27586206896552 % of its completion\n"
     ]
    }
   ],
   "source": [
    "main(None,\"Gentilly\", \"France\", 4, 15, 0.9, True, False)"
   ]
  },
  {
   "cell_type": "code",
   "execution_count": null,
   "metadata": {},
   "outputs": [],
   "source": []
  }
 ],
 "metadata": {
  "kernelspec": {
   "display_name": "Python 3",
   "language": "python",
   "name": "python3"
  },
  "language_info": {
   "codemirror_mode": {
    "name": "ipython",
    "version": 3
   },
   "file_extension": ".py",
   "mimetype": "text/x-python",
   "name": "python",
   "nbconvert_exporter": "python",
   "pygments_lexer": "ipython3",
   "version": "3.9.4"
  }
 },
 "nbformat": 4,
 "nbformat_minor": 4
}

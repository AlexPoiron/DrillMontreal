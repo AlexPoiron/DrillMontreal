{
 "cells": [
  {
   "cell_type": "code",
   "execution_count": null,
   "id": "ce34ff0c-1949-4b9e-ac55-fc12a0cb66d5",
   "metadata": {},
   "outputs": [],
   "source": []
  }
 ],
 "metadata": {
  "kernelspec": {
   "display_name": "Python 3.9.4 64-bit ('ox': conda)",
   "language": "python",
   "name": "python394jvsc74a57bd0e7f94e9f1c5d4f7757b0e82cec402d67e0e779f5718c14861cc866a2b0f83e5a"
  },
  "language_info": {
   "name": ""
  }
 },
 "nbformat": 4,
 "nbformat_minor": 5
}
